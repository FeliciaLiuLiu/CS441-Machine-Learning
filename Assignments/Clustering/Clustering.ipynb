{
 "cells": [
  {
   "cell_type": "code",
   "execution_count": 1,
   "metadata": {},
   "outputs": [],
   "source": [
    "%matplotlib inline\n",
    "%load_ext autoreload\n",
    "%autoreload 2\n",
    "\n",
    "import matplotlib.pyplot as plt\n",
    "import numpy as np\n",
    "import seaborn as sns\n",
    "import pandas as pd\n",
    "from scipy.cluster import hierarchy\n",
    "from sklearn.cluster import KMeans\n",
    "from sklearn.metrics import silhouette_score"
   ]
  },
  {
   "cell_type": "markdown",
   "metadata": {},
   "source": [
    "# *Assignment Summary"
   ]
  },
  {
   "cell_type": "markdown",
   "metadata": {},
   "source": [
    "You can find a dataset dealing with European employment in 1979 at http://www.dm.unibo.it/~simoncin/EuropeanJobs.html. This dataset gives the percentage of people employed in each of a set of areas in 1979 for each of a set of European countries. Notice this dataset contains only 26 data points. That's fine; it's intended to give you some practice in visualization of clustering.\n",
    "\n",
    "1. Use agglomerative clustering to cluster this data. Produce a dendrogram of this data for each of single link, complete link, and group average clustering. You should label the countries on the axis. What structure in the data does each method expose? You should see dendrograms that \"make sense\" (at least if you remember some European history), and have interesting differences.\n",
    "\n",
    "2. Using k-means, cluster this dataset. What is a good choice of k for this data and why?"
   ]
  },
  {
   "cell_type": "markdown",
   "metadata": {},
   "source": [
    "# 0. Data"
   ]
  },
  {
   "cell_type": "markdown",
   "metadata": {},
   "source": [
    "## 0.1 Description"
   ]
  },
  {
   "cell_type": "markdown",
   "metadata": {},
   "source": [
    "You can find a dataset dealing with European employment in 1979 at http://www.dm.unibo.it/~simoncin/EuropeanJobs.html. This dataset gives the percentage of people employed in each of a set of areas in 1979 for each of a set of European countries. Notice this dataset contains only 26 data points. That's fine; it's intended to give you some practice in visualization of clustering."
   ]
  },
  {
   "cell_type": "markdown",
   "metadata": {},
   "source": [
    "## 0.2 Loading"
   ]
  },
  {
   "cell_type": "code",
   "execution_count": 2,
   "metadata": {},
   "outputs": [],
   "source": [
    "df = pd.read_csv(\"../Clustering-lib/EuropeanJobs.dat\", sep='\\t', header=0)"
   ]
  },
  {
   "cell_type": "code",
   "execution_count": 3,
   "metadata": {},
   "outputs": [
    {
     "data": {
      "text/html": [
       "<div>\n",
       "<style scoped>\n",
       "    .dataframe tbody tr th:only-of-type {\n",
       "        vertical-align: middle;\n",
       "    }\n",
       "\n",
       "    .dataframe tbody tr th {\n",
       "        vertical-align: top;\n",
       "    }\n",
       "\n",
       "    .dataframe thead th {\n",
       "        text-align: right;\n",
       "    }\n",
       "</style>\n",
       "<table border=\"1\" class=\"dataframe\">\n",
       "  <thead>\n",
       "    <tr style=\"text-align: right;\">\n",
       "      <th></th>\n",
       "      <th>Country</th>\n",
       "      <th>Agr</th>\n",
       "      <th>Min</th>\n",
       "      <th>Man</th>\n",
       "      <th>PS</th>\n",
       "      <th>Con</th>\n",
       "      <th>SI</th>\n",
       "      <th>Fin</th>\n",
       "      <th>SPS</th>\n",
       "      <th>TC</th>\n",
       "    </tr>\n",
       "  </thead>\n",
       "  <tbody>\n",
       "    <tr>\n",
       "      <th>0</th>\n",
       "      <td>Belgium</td>\n",
       "      <td>3.3</td>\n",
       "      <td>0.9</td>\n",
       "      <td>27.6</td>\n",
       "      <td>0.9</td>\n",
       "      <td>8.2</td>\n",
       "      <td>19.1</td>\n",
       "      <td>6.2</td>\n",
       "      <td>26.6</td>\n",
       "      <td>7.2</td>\n",
       "    </tr>\n",
       "    <tr>\n",
       "      <th>1</th>\n",
       "      <td>Denmark</td>\n",
       "      <td>9.2</td>\n",
       "      <td>0.1</td>\n",
       "      <td>21.8</td>\n",
       "      <td>0.6</td>\n",
       "      <td>8.3</td>\n",
       "      <td>14.6</td>\n",
       "      <td>6.5</td>\n",
       "      <td>32.2</td>\n",
       "      <td>7.1</td>\n",
       "    </tr>\n",
       "    <tr>\n",
       "      <th>2</th>\n",
       "      <td>France</td>\n",
       "      <td>10.8</td>\n",
       "      <td>0.8</td>\n",
       "      <td>27.5</td>\n",
       "      <td>0.9</td>\n",
       "      <td>8.9</td>\n",
       "      <td>16.8</td>\n",
       "      <td>6.0</td>\n",
       "      <td>22.6</td>\n",
       "      <td>5.7</td>\n",
       "    </tr>\n",
       "    <tr>\n",
       "      <th>3</th>\n",
       "      <td>W. Germany</td>\n",
       "      <td>6.7</td>\n",
       "      <td>1.3</td>\n",
       "      <td>35.8</td>\n",
       "      <td>0.9</td>\n",
       "      <td>7.3</td>\n",
       "      <td>14.4</td>\n",
       "      <td>5.0</td>\n",
       "      <td>22.3</td>\n",
       "      <td>6.1</td>\n",
       "    </tr>\n",
       "    <tr>\n",
       "      <th>4</th>\n",
       "      <td>Ireland</td>\n",
       "      <td>23.2</td>\n",
       "      <td>1.0</td>\n",
       "      <td>20.7</td>\n",
       "      <td>1.3</td>\n",
       "      <td>7.5</td>\n",
       "      <td>16.8</td>\n",
       "      <td>2.8</td>\n",
       "      <td>20.8</td>\n",
       "      <td>6.1</td>\n",
       "    </tr>\n",
       "    <tr>\n",
       "      <th>5</th>\n",
       "      <td>Italy</td>\n",
       "      <td>15.9</td>\n",
       "      <td>0.6</td>\n",
       "      <td>27.6</td>\n",
       "      <td>0.5</td>\n",
       "      <td>10.0</td>\n",
       "      <td>18.1</td>\n",
       "      <td>1.6</td>\n",
       "      <td>20.1</td>\n",
       "      <td>5.7</td>\n",
       "    </tr>\n",
       "    <tr>\n",
       "      <th>6</th>\n",
       "      <td>Luxembourg</td>\n",
       "      <td>7.7</td>\n",
       "      <td>3.1</td>\n",
       "      <td>30.8</td>\n",
       "      <td>0.8</td>\n",
       "      <td>9.2</td>\n",
       "      <td>18.5</td>\n",
       "      <td>4.6</td>\n",
       "      <td>19.2</td>\n",
       "      <td>6.2</td>\n",
       "    </tr>\n",
       "    <tr>\n",
       "      <th>7</th>\n",
       "      <td>Netherlands</td>\n",
       "      <td>6.3</td>\n",
       "      <td>0.1</td>\n",
       "      <td>22.5</td>\n",
       "      <td>1.0</td>\n",
       "      <td>9.9</td>\n",
       "      <td>18.0</td>\n",
       "      <td>6.8</td>\n",
       "      <td>28.5</td>\n",
       "      <td>6.8</td>\n",
       "    </tr>\n",
       "    <tr>\n",
       "      <th>8</th>\n",
       "      <td>United Kingdom</td>\n",
       "      <td>2.7</td>\n",
       "      <td>1.4</td>\n",
       "      <td>30.2</td>\n",
       "      <td>1.4</td>\n",
       "      <td>6.9</td>\n",
       "      <td>16.9</td>\n",
       "      <td>5.7</td>\n",
       "      <td>28.3</td>\n",
       "      <td>6.4</td>\n",
       "    </tr>\n",
       "    <tr>\n",
       "      <th>9</th>\n",
       "      <td>Austria</td>\n",
       "      <td>12.7</td>\n",
       "      <td>1.1</td>\n",
       "      <td>30.2</td>\n",
       "      <td>1.4</td>\n",
       "      <td>9.0</td>\n",
       "      <td>16.8</td>\n",
       "      <td>4.9</td>\n",
       "      <td>16.8</td>\n",
       "      <td>7.0</td>\n",
       "    </tr>\n",
       "    <tr>\n",
       "      <th>10</th>\n",
       "      <td>Finland</td>\n",
       "      <td>13.0</td>\n",
       "      <td>0.4</td>\n",
       "      <td>25.9</td>\n",
       "      <td>1.3</td>\n",
       "      <td>7.4</td>\n",
       "      <td>14.7</td>\n",
       "      <td>5.5</td>\n",
       "      <td>24.3</td>\n",
       "      <td>7.6</td>\n",
       "    </tr>\n",
       "    <tr>\n",
       "      <th>11</th>\n",
       "      <td>Greece</td>\n",
       "      <td>41.4</td>\n",
       "      <td>0.6</td>\n",
       "      <td>17.6</td>\n",
       "      <td>0.6</td>\n",
       "      <td>8.1</td>\n",
       "      <td>11.5</td>\n",
       "      <td>2.4</td>\n",
       "      <td>11.0</td>\n",
       "      <td>6.7</td>\n",
       "    </tr>\n",
       "    <tr>\n",
       "      <th>12</th>\n",
       "      <td>Norway</td>\n",
       "      <td>9.0</td>\n",
       "      <td>0.5</td>\n",
       "      <td>22.4</td>\n",
       "      <td>0.8</td>\n",
       "      <td>8.6</td>\n",
       "      <td>16.9</td>\n",
       "      <td>4.7</td>\n",
       "      <td>27.6</td>\n",
       "      <td>9.4</td>\n",
       "    </tr>\n",
       "    <tr>\n",
       "      <th>13</th>\n",
       "      <td>Portugal</td>\n",
       "      <td>27.8</td>\n",
       "      <td>0.3</td>\n",
       "      <td>24.5</td>\n",
       "      <td>0.6</td>\n",
       "      <td>8.4</td>\n",
       "      <td>13.3</td>\n",
       "      <td>2.7</td>\n",
       "      <td>16.7</td>\n",
       "      <td>5.7</td>\n",
       "    </tr>\n",
       "    <tr>\n",
       "      <th>14</th>\n",
       "      <td>Spain</td>\n",
       "      <td>22.9</td>\n",
       "      <td>0.8</td>\n",
       "      <td>28.5</td>\n",
       "      <td>0.7</td>\n",
       "      <td>11.5</td>\n",
       "      <td>9.7</td>\n",
       "      <td>8.5</td>\n",
       "      <td>11.8</td>\n",
       "      <td>5.5</td>\n",
       "    </tr>\n",
       "    <tr>\n",
       "      <th>15</th>\n",
       "      <td>Sweden</td>\n",
       "      <td>6.1</td>\n",
       "      <td>0.4</td>\n",
       "      <td>25.9</td>\n",
       "      <td>0.8</td>\n",
       "      <td>7.2</td>\n",
       "      <td>14.4</td>\n",
       "      <td>6.0</td>\n",
       "      <td>32.4</td>\n",
       "      <td>6.8</td>\n",
       "    </tr>\n",
       "    <tr>\n",
       "      <th>16</th>\n",
       "      <td>Switzerland</td>\n",
       "      <td>7.7</td>\n",
       "      <td>0.2</td>\n",
       "      <td>37.8</td>\n",
       "      <td>0.8</td>\n",
       "      <td>9.5</td>\n",
       "      <td>17.5</td>\n",
       "      <td>5.3</td>\n",
       "      <td>15.4</td>\n",
       "      <td>5.7</td>\n",
       "    </tr>\n",
       "    <tr>\n",
       "      <th>17</th>\n",
       "      <td>Turkey</td>\n",
       "      <td>66.8</td>\n",
       "      <td>0.7</td>\n",
       "      <td>7.9</td>\n",
       "      <td>0.1</td>\n",
       "      <td>2.8</td>\n",
       "      <td>5.2</td>\n",
       "      <td>1.1</td>\n",
       "      <td>11.9</td>\n",
       "      <td>3.2</td>\n",
       "    </tr>\n",
       "    <tr>\n",
       "      <th>18</th>\n",
       "      <td>Bulgaria</td>\n",
       "      <td>23.6</td>\n",
       "      <td>1.9</td>\n",
       "      <td>32.3</td>\n",
       "      <td>0.6</td>\n",
       "      <td>7.9</td>\n",
       "      <td>8.0</td>\n",
       "      <td>0.7</td>\n",
       "      <td>18.2</td>\n",
       "      <td>6.7</td>\n",
       "    </tr>\n",
       "    <tr>\n",
       "      <th>19</th>\n",
       "      <td>Czechoslovakia</td>\n",
       "      <td>16.5</td>\n",
       "      <td>2.9</td>\n",
       "      <td>35.5</td>\n",
       "      <td>1.2</td>\n",
       "      <td>8.7</td>\n",
       "      <td>9.2</td>\n",
       "      <td>0.9</td>\n",
       "      <td>17.9</td>\n",
       "      <td>7.0</td>\n",
       "    </tr>\n",
       "    <tr>\n",
       "      <th>20</th>\n",
       "      <td>E. Germany</td>\n",
       "      <td>4.2</td>\n",
       "      <td>2.9</td>\n",
       "      <td>41.2</td>\n",
       "      <td>1.3</td>\n",
       "      <td>7.6</td>\n",
       "      <td>11.2</td>\n",
       "      <td>1.2</td>\n",
       "      <td>22.1</td>\n",
       "      <td>8.4</td>\n",
       "    </tr>\n",
       "    <tr>\n",
       "      <th>21</th>\n",
       "      <td>Hungary</td>\n",
       "      <td>21.7</td>\n",
       "      <td>3.1</td>\n",
       "      <td>29.6</td>\n",
       "      <td>1.9</td>\n",
       "      <td>8.2</td>\n",
       "      <td>9.4</td>\n",
       "      <td>0.9</td>\n",
       "      <td>17.2</td>\n",
       "      <td>8.0</td>\n",
       "    </tr>\n",
       "    <tr>\n",
       "      <th>22</th>\n",
       "      <td>Poland</td>\n",
       "      <td>31.1</td>\n",
       "      <td>2.5</td>\n",
       "      <td>25.7</td>\n",
       "      <td>0.9</td>\n",
       "      <td>8.4</td>\n",
       "      <td>7.5</td>\n",
       "      <td>0.9</td>\n",
       "      <td>16.1</td>\n",
       "      <td>6.9</td>\n",
       "    </tr>\n",
       "    <tr>\n",
       "      <th>23</th>\n",
       "      <td>Rumania</td>\n",
       "      <td>34.7</td>\n",
       "      <td>2.1</td>\n",
       "      <td>30.1</td>\n",
       "      <td>0.6</td>\n",
       "      <td>8.7</td>\n",
       "      <td>5.9</td>\n",
       "      <td>1.3</td>\n",
       "      <td>11.7</td>\n",
       "      <td>5.0</td>\n",
       "    </tr>\n",
       "    <tr>\n",
       "      <th>24</th>\n",
       "      <td>USSR</td>\n",
       "      <td>23.7</td>\n",
       "      <td>1.4</td>\n",
       "      <td>25.8</td>\n",
       "      <td>0.6</td>\n",
       "      <td>9.2</td>\n",
       "      <td>6.1</td>\n",
       "      <td>0.5</td>\n",
       "      <td>23.6</td>\n",
       "      <td>9.3</td>\n",
       "    </tr>\n",
       "    <tr>\n",
       "      <th>25</th>\n",
       "      <td>Yugoslavia</td>\n",
       "      <td>48.7</td>\n",
       "      <td>1.5</td>\n",
       "      <td>16.8</td>\n",
       "      <td>1.1</td>\n",
       "      <td>4.9</td>\n",
       "      <td>6.4</td>\n",
       "      <td>11.3</td>\n",
       "      <td>5.3</td>\n",
       "      <td>4.0</td>\n",
       "    </tr>\n",
       "  </tbody>\n",
       "</table>\n",
       "</div>"
      ],
      "text/plain": [
       "           Country   Agr  Min   Man   PS   Con    SI   Fin   SPS   TC\n",
       "0          Belgium   3.3  0.9  27.6  0.9   8.2  19.1   6.2  26.6  7.2\n",
       "1          Denmark   9.2  0.1  21.8  0.6   8.3  14.6   6.5  32.2  7.1\n",
       "2           France  10.8  0.8  27.5  0.9   8.9  16.8   6.0  22.6  5.7\n",
       "3       W. Germany   6.7  1.3  35.8  0.9   7.3  14.4   5.0  22.3  6.1\n",
       "4          Ireland  23.2  1.0  20.7  1.3   7.5  16.8   2.8  20.8  6.1\n",
       "5            Italy  15.9  0.6  27.6  0.5  10.0  18.1   1.6  20.1  5.7\n",
       "6       Luxembourg   7.7  3.1  30.8  0.8   9.2  18.5   4.6  19.2  6.2\n",
       "7      Netherlands   6.3  0.1  22.5  1.0   9.9  18.0   6.8  28.5  6.8\n",
       "8   United Kingdom   2.7  1.4  30.2  1.4   6.9  16.9   5.7  28.3  6.4\n",
       "9          Austria  12.7  1.1  30.2  1.4   9.0  16.8   4.9  16.8  7.0\n",
       "10         Finland  13.0  0.4  25.9  1.3   7.4  14.7   5.5  24.3  7.6\n",
       "11          Greece  41.4  0.6  17.6  0.6   8.1  11.5   2.4  11.0  6.7\n",
       "12          Norway   9.0  0.5  22.4  0.8   8.6  16.9   4.7  27.6  9.4\n",
       "13        Portugal  27.8  0.3  24.5  0.6   8.4  13.3   2.7  16.7  5.7\n",
       "14           Spain  22.9  0.8  28.5  0.7  11.5   9.7   8.5  11.8  5.5\n",
       "15          Sweden   6.1  0.4  25.9  0.8   7.2  14.4   6.0  32.4  6.8\n",
       "16     Switzerland   7.7  0.2  37.8  0.8   9.5  17.5   5.3  15.4  5.7\n",
       "17          Turkey  66.8  0.7   7.9  0.1   2.8   5.2   1.1  11.9  3.2\n",
       "18        Bulgaria  23.6  1.9  32.3  0.6   7.9   8.0   0.7  18.2  6.7\n",
       "19  Czechoslovakia  16.5  2.9  35.5  1.2   8.7   9.2   0.9  17.9  7.0\n",
       "20      E. Germany   4.2  2.9  41.2  1.3   7.6  11.2   1.2  22.1  8.4\n",
       "21         Hungary  21.7  3.1  29.6  1.9   8.2   9.4   0.9  17.2  8.0\n",
       "22          Poland  31.1  2.5  25.7  0.9   8.4   7.5   0.9  16.1  6.9\n",
       "23         Rumania  34.7  2.1  30.1  0.6   8.7   5.9   1.3  11.7  5.0\n",
       "24            USSR  23.7  1.4  25.8  0.6   9.2   6.1   0.5  23.6  9.3\n",
       "25      Yugoslavia  48.7  1.5  16.8  1.1   4.9   6.4  11.3   5.3  4.0"
      ]
     },
     "execution_count": 3,
     "metadata": {},
     "output_type": "execute_result"
    }
   ],
   "source": [
    "df"
   ]
  },
  {
   "cell_type": "markdown",
   "metadata": {},
   "source": [
    "Here is a description of the columns in the data:\n",
    "- Country: name of the country\n",
    "- Agr: percentage employed in agriculture\n",
    "- Min: percentage employed in mining\n",
    "- Man: percentage employed in manufacturing\n",
    "- PS: percentage employed in power supply industries \n",
    "- Con: percentage employed in construction\n",
    "- SI: percentage employed in service industries\n",
    "- Fin: percentage employed in finance\n",
    "- SPS: percentage employed in social and personal services\n",
    "- TC: percentage employed in transport and communications"
   ]
  },
  {
   "cell_type": "code",
   "execution_count": 4,
   "metadata": {},
   "outputs": [],
   "source": [
    "feature_cols = ['Agr','Min','Man','PS','Con','SI','Fin','SPS','TC'] \n",
    "X = df[feature_cols].values\n",
    "Y = df['Country'].tolist()"
   ]
  },
  {
   "cell_type": "markdown",
   "metadata": {},
   "source": [
    "# 1. Agglomerative Clustering"
   ]
  },
  {
   "cell_type": "markdown",
   "metadata": {},
   "source": [
    "# <span style=\"color:blue\">Task 1</span>"
   ]
  },
  {
   "cell_type": "markdown",
   "metadata": {},
   "source": [
    "Write a function `single_linkage` that produces a single-link agglomerative clustering. This function should take the data matrix `X` as input, which is a numpy array with the shape of $(N,d)$ where $N$ is the number of samples and $d$ is the number of features. The output of the function should be a linkage matrix. Use the Euclidean distance as a metric. \n",
    "\n",
    "You may find scipy's hierarchical clustering methods (https://docs.scipy.org/doc/scipy/reference/cluster.hierarchy.html) useful here. The utilization of the `optimal_ordering` option makes interpretations of the resulting trees an easier job."
   ]
  },
  {
   "cell_type": "code",
   "execution_count": 5,
   "metadata": {
    "deletable": false
   },
   "outputs": [],
   "source": [
    "def single_linkage(X):\n",
    "    \"\"\"\n",
    "    Produce a single-link agglomerative clustering.\n",
    "    \n",
    "        Parameters:\n",
    "                X (np.array): A numpy array of the shape (N,d) where N is the number of samples and d is the number of features.\n",
    "                \n",
    "        Returns:\n",
    "                single_link (np.array): The single-link agglomerative clustering of X encoded as a linkage matrix.\n",
    "    \"\"\"\n",
    "    \n",
    "    # your code here\n",
    "    # raise NotImplementedError\n",
    "    \n",
    "    single_link = hierarchy.linkage(X, optimal_ordering=True)\n",
    "    \n",
    "    return single_link"
   ]
  },
  {
   "cell_type": "code",
   "execution_count": 6,
   "metadata": {},
   "outputs": [],
   "source": [
    "single_link = single_linkage(X)\n",
    "assert single_link[:,2].min().round(3) == 4.234"
   ]
  },
  {
   "cell_type": "code",
   "execution_count": 7,
   "metadata": {
    "code_folding": [],
    "deletable": false,
    "editable": false,
    "nbgrader": {
     "cell_type": "code",
     "checksum": "89241600f72a85baffd88d34b7916362",
     "grade": true,
     "grade_id": "cell-f99d0d77f7576076",
     "locked": true,
     "points": 1,
     "schema_version": 3,
     "solution": false,
     "task": false
    }
   },
   "outputs": [],
   "source": [
    "# Next, we will plot the dendogram for the first task.\n"
   ]
  },
  {
   "cell_type": "code",
   "execution_count": 8,
   "metadata": {},
   "outputs": [
    {
     "data": {
      "image/png": "[encoded data removed]",
      "text/plain": [
       "<Figure size 1080x540 with 1 Axes>"
      ]
     },
     "metadata": {
      "needs_background": "light"
     },
     "output_type": "display_data"
    }
   ],
   "source": [
    "single_link = single_linkage(X)\n",
    "plt.figure(figsize=(12,6), dpi=90)\n",
    "plt.ylabel(\"Distance\")\n",
    "plt.title(\"Agglomerative Clustering of European Jobs - Single Link\")\n",
    "dn_single = hierarchy.dendrogram(single_link, labels=Y)"
   ]
  },
  {
   "cell_type": "markdown",
   "metadata": {},
   "source": [
    "# <span style=\"color:blue\">Task 2</span>"
   ]
  },
  {
   "cell_type": "markdown",
   "metadata": {},
   "source": [
    "Write a function `complete_linkage` that produces a complete-link agglomerative clustering. This function should take the data matrix `X` as input, which is a numpy array with the shape of $(N,d)$ where $N$ is the number of samples and $d$ is the number of features. The output of the function should be a linkage matrix. Use the Euclidean distance as a metric. \n",
    "\n",
    "You may find scipy's hierarchical clustering methods (https://docs.scipy.org/doc/scipy/reference/cluster.hierarchy.html) useful here. The utilization of the `optimal_ordering` option makes interpretations of the resulting trees an easier job."
   ]
  },
  {
   "cell_type": "code",
   "execution_count": 9,
   "metadata": {
    "deletable": false
   },
   "outputs": [],
   "source": [
    "def complete_linkage(X):\n",
    "    \"\"\"\n",
    "    Produce a complete-link agglomerative clustering.\n",
    "    \n",
    "        Parameters:\n",
    "                X (np.array): A numpy array of the shape (N,d) where N is the number of samples and d is the number of features.\n",
    "                \n",
    "        Returns:\n",
    "                comp_link (np.array): The complete-link agglomerative clustering of X encoded as a linkage matrix.\n",
    "    \"\"\"\n",
    "    \n",
    "    # your code here\n",
    "    # raise NotImplementedError\n",
    "    comp_link = hierarchy.linkage(X, method='complete' , optimal_ordering=True)\n",
    "    \n",
    "    return comp_link"
   ]
  },
  {
   "cell_type": "code",
   "execution_count": 10,
   "metadata": {},
   "outputs": [],
   "source": [
    "comp_link = complete_linkage(X)\n",
    "assert comp_link[:,2].max().round(3) == 72.278"
   ]
  },
  {
   "cell_type": "code",
   "execution_count": 11,
   "metadata": {
    "deletable": false,
    "editable": false,
    "nbgrader": {
     "cell_type": "code",
     "checksum": "bd0899c8074af01541754d9f0f78487e",
     "grade": true,
     "grade_id": "cell-547628b9c01cd339",
     "locked": true,
     "points": 1,
     "schema_version": 3,
     "solution": false,
     "task": false
    }
   },
   "outputs": [],
   "source": [
    "# Next, we will plot the dendogram for the second task.\n"
   ]
  },
  {
   "cell_type": "code",
   "execution_count": 12,
   "metadata": {},
   "outputs": [
    {
     "data": {
      "image/png": "[encoded data removed]",
      "text/plain": [
       "<Figure size 1080x540 with 1 Axes>"
      ]
     },
     "metadata": {
      "needs_background": "light"
     },
     "output_type": "display_data"
    }
   ],
   "source": [
    "complete_link = complete_linkage(X)\n",
    "plt.figure(figsize=(12,6), dpi=90)\n",
    "plt.ylabel(\"Distance\")\n",
    "plt.title(\"Agglomerative Clustering of European Jobs - Complete Link\")\n",
    "dn_complete = hierarchy.dendrogram(complete_link,labels=Y)"
   ]
  },
  {
   "cell_type": "markdown",
   "metadata": {},
   "source": [
    "# <span style=\"color:blue\">Task 3</span>"
   ]
  },
  {
   "cell_type": "markdown",
   "metadata": {},
   "source": [
    "Write a function `group_avg_linkage` that produces an average-link agglomerative clustering. This function should take the data matrix `X` as input, which is a numpy array with the shape of $(N,d)$ where $N$ is the number of samples and $d$ is the number of features. The output of the function should be a linkage matrix. Use the Euclidean distance as a metric. \n",
    "\n",
    "You may find scipy's hierarchical clustering methods (https://docs.scipy.org/doc/scipy/reference/cluster.hierarchy.html) useful here. The utilization of the `optimal_ordering` option makes interpretations of the resulting trees an easier job."
   ]
  },
  {
   "cell_type": "code",
   "execution_count": 13,
   "metadata": {
    "deletable": false
   },
   "outputs": [],
   "source": [
    "def group_avg_linkage(X):\n",
    "    \"\"\"\n",
    "    Produce an average-link agglomerative clustering.\n",
    "    \n",
    "        Parameters:\n",
    "                X (np.array): A numpy array of the shape (N,d) where N is the number of samples and d is the number of features.\n",
    "                \n",
    "        Returns:\n",
    "                avg_link (np.array): The average-link agglomerative clustering of X encoded as a linkage matrix.\n",
    "    \"\"\"\n",
    "    \n",
    "    # your code here\n",
    "    # raise NotImplementedError\n",
    "    avg_link = hierarchy.linkage(X, method='average' , optimal_ordering=True)\n",
    "    \n",
    "    return avg_link"
   ]
  },
  {
   "cell_type": "code",
   "execution_count": 14,
   "metadata": {},
   "outputs": [],
   "source": [
    "avg_link = group_avg_linkage(X)\n",
    "assert avg_link[:,2].max().round(3) == 44.172"
   ]
  },
  {
   "cell_type": "code",
   "execution_count": 15,
   "metadata": {
    "deletable": false,
    "editable": false,
    "nbgrader": {
     "cell_type": "code",
     "checksum": "82b9c1e60da8b0a56cc5cb62bff92af5",
     "grade": true,
     "grade_id": "cell-f5e5d715b5eb8ef2",
     "locked": true,
     "points": 1,
     "schema_version": 3,
     "solution": false,
     "task": false
    }
   },
   "outputs": [],
   "source": [
    "# Next, we will plot the dendogram for the third task.\n"
   ]
  },
  {
   "cell_type": "code",
   "execution_count": null,
   "metadata": {},
   "outputs": [],
   "source": [
    "average_link = group_avg_linkage(X)\n",
    "plt.figure(figsize=(12,6), dpi=90)\n",
    "plt.ylabel(\"Distance\")\n",
    "plt.title(\"Agglomerative Clustering of European Jobs - Group Average\")\n",
    "dn_average = hierarchy.dendrogram(average_link,labels=Y)"
   ]
  },
  {
   "cell_type": "markdown",
   "metadata": {},
   "source": [
    "# 2. K-Means Clustering"
   ]
  },
  {
   "cell_type": "markdown",
   "metadata": {},
   "source": [
    "In this part, we perform the K-Means clustering algorithm on the dataset, and evalute the effect of the parameter $k$ (the number of clusters) on the outcome.\n",
    "\n",
    "For this, we use the `KMeans` class from `sklearn.cluster`. You should familiarize yourself with this class. You can find the documentation of it here: https://scikit-learn.org/stable/modules/generated/sklearn.cluster.KMeans.html \n",
    "\n",
    "In the following code, we run the K-Means algorithm for $2 \\leq k \\leq 25$ clusters.\n",
    "\n",
    "<font color='red'><b>Attention:</font> Although you are not implementing this part, for the follow-up quiz of this assignment, you will need to come back here, write some code and do some calculations to get the answer of some questions in the quiz. For now, try to read the documentation for the `KMeans` class and try to understand what the following code is doing."
   ]
  },
  {
   "cell_type": "code",
   "execution_count": null,
   "metadata": {},
   "outputs": [],
   "source": [
    "k_list = list(range(2,26))\n",
    "k_inertias = []\n",
    "k_scores = []\n",
    "model_list = []\n",
    "for k in k_list:\n",
    "    model = KMeans(n_clusters=k, random_state=12345).fit(X)\n",
    "    model_list.append(model)\n",
    "    cluster_assignments = model.labels_\n",
    "    score = silhouette_score(X, cluster_assignments, metric='euclidean')\n",
    "    inertia = model.inertia_\n",
    "    k_scores.append(score)\n",
    "    k_inertias.append(inertia)"
   ]
  },
  {
   "cell_type": "markdown",
   "metadata": {},
   "source": [
    "Now, we plot the sum of square distances of samples to their closest cluster center as a function of $k$, the numebr of clusters. "
   ]
  },
  {
   "cell_type": "code",
   "execution_count": null,
   "metadata": {},
   "outputs": [],
   "source": [
    "plt.figure(figsize=(8,4), dpi=120)\n",
    "plt.title('The Elbow Plot')\n",
    "plt.xlabel('Number of Clusters')\n",
    "plt.ylabel('Sum of Square Distances')\n",
    "_=plt.plot(k_list, k_inertias,'bo--')"
   ]
  },
  {
   "cell_type": "markdown",
   "metadata": {},
   "source": [
    "Look at the above *Elbow plot*. Based on this plot, what do you think is a reasonable choice of $k$?"
   ]
  },
  {
   "cell_type": "markdown",
   "metadata": {},
   "source": [
    "Next, we plot the so called \"*silhouette*\" score for the result of the K-Means clustering algorithm for the values of $k$ we implemented above. The silhouette score is a measure of how similar an object is to its cluster compared to other clusters. \n",
    "\n",
    "- Try to learn how the silhouette score is defined. For instance, you can look at this Wikipedia page: [https://en.wikipedia.org/wiki/Silhouette_(clustering)](https://en.wikipedia.org/wiki/Silhouette_%28clustering%29).\n",
    "\n",
    "- What is the range of the silhouette score?\n",
    "- Is a larger value of the silhouette score better or worse?"
   ]
  },
  {
   "cell_type": "code",
   "execution_count": null,
   "metadata": {},
   "outputs": [],
   "source": [
    "plt.figure(figsize=(8,4), dpi=120)\n",
    "plt.title('Silhouette Score vs. Number of clusters')\n",
    "plt.xlabel('Number of Clusters')\n",
    "plt.ylabel('Score')\n",
    "_=plt.plot(k_list, k_scores,'bo--')"
   ]
  },
  {
   "cell_type": "markdown",
   "metadata": {
    "collapsed": true
   },
   "source": [
    "Based on the silhouette measure, what do you think is a reasonable value for $k$? Is this the same value that the above elbow plot suggests? Why do think so?"
   ]
  },
  {
   "cell_type": "code",
   "execution_count": null,
   "metadata": {},
   "outputs": [],
   "source": []
  }
 ],
 "metadata": {
  "illinois_payload": {
   "b64z": "",
   "nb_path": "release/Clustering/Clustering.ipynb"
  },
  "kernelspec": {
   "display_name": "Python 3 (Threads: 2)",
   "language": "python",
   "name": "python3"
  },
  "language_info": {
   "codemirror_mode": {
    "name": "ipython",
    "version": 3
   },
   "file_extension": ".py",
   "mimetype": "text/x-python",
   "name": "python",
   "nbconvert_exporter": "python",
   "pygments_lexer": "ipython3",
   "version": "3.8.12"
  }
 },
 "nbformat": 4,
 "nbformat_minor": 4
}
